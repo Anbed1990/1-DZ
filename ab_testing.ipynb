{
 "cells": [
  {
   "cell_type": "code",
   "execution_count": 31,
   "id": "9a365f8d",
   "metadata": {},
   "outputs": [],
   "source": [
    "#Контектс задачи: \n",
    "# Студия по разработки мобильных игр, создала прототип будующей игры. С целью изучения рентабельности,\n",
    "# студией сделано 2 видеоролика (Геймплейна) будующей игры (А и В). Оба Гемплейна были залиты в GooglePlay. В результате оба\n",
    "# Геймплейна показали определенные результаты. Вам необходимо определить какой из Гейплейнов является лучшим?"
   ]
  },
  {
   "cell_type": "code",
   "execution_count": 32,
   "id": "d9591c97",
   "metadata": {},
   "outputs": [],
   "source": [
    "import pandas as pd\n",
    "import numpy as np\n",
    "import seaborn as sns\n",
    "import scipy.stats as stats\n",
    "import matplotlib.pyplot as plt"
   ]
  },
  {
   "cell_type": "code",
   "execution_count": 33,
   "id": "0716f2ef",
   "metadata": {},
   "outputs": [],
   "source": [
    "df = pd.read_csv('ad.csv')"
   ]
  },
  {
   "cell_type": "code",
   "execution_count": 34,
   "id": "ab240db1",
   "metadata": {},
   "outputs": [
    {
     "data": {
      "text/html": [
       "<div>\n",
       "<style scoped>\n",
       "    .dataframe tbody tr th:only-of-type {\n",
       "        vertical-align: middle;\n",
       "    }\n",
       "\n",
       "    .dataframe tbody tr th {\n",
       "        vertical-align: top;\n",
       "    }\n",
       "\n",
       "    .dataframe thead th {\n",
       "        text-align: right;\n",
       "    }\n",
       "</style>\n",
       "<table border=\"1\" class=\"dataframe\">\n",
       "  <thead>\n",
       "    <tr style=\"text-align: right;\">\n",
       "      <th></th>\n",
       "      <th>ad_id</th>\n",
       "      <th>action</th>\n",
       "    </tr>\n",
       "  </thead>\n",
       "  <tbody>\n",
       "    <tr>\n",
       "      <th>0</th>\n",
       "      <td>B</td>\n",
       "      <td>1</td>\n",
       "    </tr>\n",
       "    <tr>\n",
       "      <th>1</th>\n",
       "      <td>B</td>\n",
       "      <td>1</td>\n",
       "    </tr>\n",
       "    <tr>\n",
       "      <th>2</th>\n",
       "      <td>A</td>\n",
       "      <td>0</td>\n",
       "    </tr>\n",
       "    <tr>\n",
       "      <th>3</th>\n",
       "      <td>B</td>\n",
       "      <td>0</td>\n",
       "    </tr>\n",
       "    <tr>\n",
       "      <th>4</th>\n",
       "      <td>A</td>\n",
       "      <td>1</td>\n",
       "    </tr>\n",
       "  </tbody>\n",
       "</table>\n",
       "</div>"
      ],
      "text/plain": [
       "  ad_id  action\n",
       "0     B       1\n",
       "1     B       1\n",
       "2     A       0\n",
       "3     B       0\n",
       "4     A       1"
      ]
     },
     "execution_count": 34,
     "metadata": {},
     "output_type": "execute_result"
    }
   ],
   "source": [
    "df.head()"
   ]
  },
  {
   "cell_type": "code",
   "execution_count": 35,
   "id": "aaf6d5f0",
   "metadata": {},
   "outputs": [],
   "source": [
    "summary_df = df.pivot_table(values='action', index = 'ad_id', aggfunc=np.sum)"
   ]
  },
  {
   "cell_type": "code",
   "execution_count": 36,
   "id": "060519a0",
   "metadata": {},
   "outputs": [
    {
     "data": {
      "text/html": [
       "<div>\n",
       "<style scoped>\n",
       "    .dataframe tbody tr th:only-of-type {\n",
       "        vertical-align: middle;\n",
       "    }\n",
       "\n",
       "    .dataframe tbody tr th {\n",
       "        vertical-align: top;\n",
       "    }\n",
       "\n",
       "    .dataframe thead th {\n",
       "        text-align: right;\n",
       "    }\n",
       "</style>\n",
       "<table border=\"1\" class=\"dataframe\">\n",
       "  <thead>\n",
       "    <tr style=\"text-align: right;\">\n",
       "      <th></th>\n",
       "      <th>action</th>\n",
       "    </tr>\n",
       "    <tr>\n",
       "      <th>ad_id</th>\n",
       "      <th></th>\n",
       "    </tr>\n",
       "  </thead>\n",
       "  <tbody>\n",
       "    <tr>\n",
       "      <th>A</th>\n",
       "      <td>304</td>\n",
       "    </tr>\n",
       "    <tr>\n",
       "      <th>B</th>\n",
       "      <td>372</td>\n",
       "    </tr>\n",
       "  </tbody>\n",
       "</table>\n",
       "</div>"
      ],
      "text/plain": [
       "       action\n",
       "ad_id        \n",
       "A         304\n",
       "B         372"
      ]
     },
     "execution_count": 36,
     "metadata": {},
     "output_type": "execute_result"
    }
   ],
   "source": [
    "summary_df "
   ]
  },
  {
   "cell_type": "code",
   "execution_count": 37,
   "id": "3822d315",
   "metadata": {},
   "outputs": [],
   "source": [
    "summary_df['total_count'] = df.pivot_table(values='action', index='ad_id', aggfunc=lambda x: len(x))\n",
    "summary_df['conversion_rate'] = df.pivot_table(values='action', index='ad_id')"
   ]
  },
  {
   "cell_type": "code",
   "execution_count": 38,
   "id": "6bb226de",
   "metadata": {},
   "outputs": [],
   "source": [
    "summary_df['std_p'] = df.pivot_table(values='action', index='ad_id', aggfunc = lambda x: np.std(x, ddof=0))\n",
    "summary_df['se_p'] = df.pivot_table(values='action', index='ad_id', aggfunc = lambda x: stats.sem(x, ddof=0))"
   ]
  },
  {
   "cell_type": "code",
   "execution_count": 39,
   "id": "40b5c400",
   "metadata": {},
   "outputs": [
    {
     "data": {
      "text/html": [
       "<div>\n",
       "<style scoped>\n",
       "    .dataframe tbody tr th:only-of-type {\n",
       "        vertical-align: middle;\n",
       "    }\n",
       "\n",
       "    .dataframe tbody tr th {\n",
       "        vertical-align: top;\n",
       "    }\n",
       "\n",
       "    .dataframe thead th {\n",
       "        text-align: right;\n",
       "    }\n",
       "</style>\n",
       "<table border=\"1\" class=\"dataframe\">\n",
       "  <thead>\n",
       "    <tr style=\"text-align: right;\">\n",
       "      <th></th>\n",
       "      <th>action</th>\n",
       "      <th>total_count</th>\n",
       "      <th>conversion_rate</th>\n",
       "      <th>std_p</th>\n",
       "      <th>se_p</th>\n",
       "    </tr>\n",
       "    <tr>\n",
       "      <th>ad_id</th>\n",
       "      <th></th>\n",
       "      <th></th>\n",
       "      <th></th>\n",
       "      <th></th>\n",
       "      <th></th>\n",
       "    </tr>\n",
       "  </thead>\n",
       "  <tbody>\n",
       "    <tr>\n",
       "      <th>A</th>\n",
       "      <td>304</td>\n",
       "      <td>1000</td>\n",
       "      <td>0.304</td>\n",
       "      <td>0.459983</td>\n",
       "      <td>0.014546</td>\n",
       "    </tr>\n",
       "    <tr>\n",
       "      <th>B</th>\n",
       "      <td>372</td>\n",
       "      <td>1000</td>\n",
       "      <td>0.372</td>\n",
       "      <td>0.483338</td>\n",
       "      <td>0.015285</td>\n",
       "    </tr>\n",
       "  </tbody>\n",
       "</table>\n",
       "</div>"
      ],
      "text/plain": [
       "       action  total_count  conversion_rate     std_p      se_p\n",
       "ad_id                                                          \n",
       "A         304         1000            0.304  0.459983  0.014546\n",
       "B         372         1000            0.372  0.483338  0.015285"
      ]
     },
     "execution_count": 39,
     "metadata": {},
     "output_type": "execute_result"
    }
   ],
   "source": [
    "summary_df"
   ]
  },
  {
   "cell_type": "code",
   "execution_count": 40,
   "id": "d31dc1e5",
   "metadata": {},
   "outputs": [],
   "source": [
    "#Промежуточный результат:\n",
    "#Полученные данные показывают, что результат тестирования второго Гейплейна (B) лучше.\n",
    "#372>304"
   ]
  },
  {
   "cell_type": "code",
   "execution_count": 41,
   "id": "3299f64f",
   "metadata": {},
   "outputs": [],
   "source": [
    "# Отрисовка гистограммы полученных результатов"
   ]
  },
  {
   "cell_type": "code",
   "execution_count": 42,
   "id": "eb2009fa",
   "metadata": {},
   "outputs": [
    {
     "data": {
      "text/plain": [
       "Text(0, 0.5, 'Коэф-т конверсии')"
      ]
     },
     "execution_count": 42,
     "metadata": {},
     "output_type": "execute_result"
    },
    {
     "data": {
      "image/png": "[encoded data removed]",
      "text/plain": [
       "<Figure size 576x432 with 1 Axes>"
      ]
     },
     "metadata": {
      "needs_background": "light"
     },
     "output_type": "display_data"
    }
   ],
   "source": [
    "plt.figure(figsize=(8,6))\n",
    "\n",
    "sns.barplot(x=df['ad_id'], y=df['action'])\n",
    "\n",
    "plt.title('Коэф-т конверсии для каждой группы')\n",
    "plt.xlabel('Группа')\n",
    "plt.ylabel('Коэф-т конверсии')"
   ]
  },
  {
   "cell_type": "code",
   "execution_count": 43,
   "id": "5bebd00a",
   "metadata": {},
   "outputs": [],
   "source": [
    "# Необходимо проверить гипотезу полученных результатов"
   ]
  },
  {
   "cell_type": "code",
   "execution_count": 46,
   "id": "2ea7ce55",
   "metadata": {},
   "outputs": [],
   "source": [
    "from statsmodels.stats.proportion import proportions_ztest, proportion_confint"
   ]
  },
  {
   "cell_type": "code",
   "execution_count": 47,
   "id": "6eead705",
   "metadata": {},
   "outputs": [],
   "source": [
    "control_results = df[df['ad_id'] == 'A']['action']\n",
    "test_results = df[df['ad_id'] == 'B']['action']"
   ]
  },
  {
   "cell_type": "code",
   "execution_count": 48,
   "id": "35e41009",
   "metadata": {},
   "outputs": [],
   "source": [
    "nobs = [control_results.count(), test_results.count()]"
   ]
  },
  {
   "cell_type": "code",
   "execution_count": 59,
   "id": "38626574",
   "metadata": {},
   "outputs": [
    {
     "data": {
      "text/plain": [
       "[1000, 1000]"
      ]
     },
     "execution_count": 59,
     "metadata": {},
     "output_type": "execute_result"
    }
   ],
   "source": [
    "nobs"
   ]
  },
  {
   "cell_type": "code",
   "execution_count": 54,
   "id": "599c44f3",
   "metadata": {},
   "outputs": [
    {
     "name": "stdout",
     "output_type": "stream",
     "text": [
      "z statistic: -3.2144492244084213\n",
      "p-value: 0.0013069502732125403\n"
     ]
    }
   ],
   "source": [
    "successes = [control_results.sum(), test_results.sum()]\n",
    "\n",
    "z_stat, pval = proportions_ztest(successes, nobs)\n",
    "\n",
    "print('z statistic:', z_stat)\n",
    "print('p-value:', pval)"
   ]
  },
  {
   "cell_type": "code",
   "execution_count": 55,
   "id": "15de87c2",
   "metadata": {},
   "outputs": [],
   "source": [
    "alpha = 0.05"
   ]
  },
  {
   "cell_type": "code",
   "execution_count": 56,
   "id": "8705f86c",
   "metadata": {},
   "outputs": [
    {
     "name": "stdout",
     "output_type": "stream",
     "text": [
      "True\n"
     ]
    }
   ],
   "source": [
    "print(pval < alpha)"
   ]
  },
  {
   "cell_type": "code",
   "execution_count": 57,
   "id": "f180fc54",
   "metadata": {},
   "outputs": [],
   "source": [
    "(lower_con, lower_test), (upper_con, upper_test) = proportion_confint(successes, nobs=nobs, alpha=alpha)"
   ]
  },
  {
   "cell_type": "code",
   "execution_count": 58,
   "id": "aebf907e",
   "metadata": {},
   "outputs": [
    {
     "name": "stdout",
     "output_type": "stream",
     "text": [
      "Доверительный интервал для контрольной группы A: 0.2754905064387712  -  0.3325094935612288\n",
      "Доверительный интервал для тестовой группы B: 0.3420429266473629  -  0.4019570733526371\n"
     ]
    }
   ],
   "source": [
    "print('Доверительный интервал для контрольной группы A:', lower_con, ' - ', upper_con)\n",
    "print('Доверительный интервал для тестовой группы B:', lower_test, ' - ', upper_test)"
   ]
  },
  {
   "cell_type": "code",
   "execution_count": null,
   "id": "900e076a",
   "metadata": {},
   "outputs": [],
   "source": [
    "#Статистический анализ показал, что Гейплей группы (В) даст лучший результат. "
   ]
  }
 ],
 "metadata": {
  "kernelspec": {
   "display_name": "Python 3",
   "language": "python",
   "name": "python3"
  },
  "language_info": {
   "codemirror_mode": {
    "name": "ipython",
    "version": 3
   },
   "file_extension": ".py",
   "mimetype": "text/x-python",
   "name": "python",
   "nbconvert_exporter": "python",
   "pygments_lexer": "ipython3",
   "version": "3.8.8"
  }
 },
 "nbformat": 4,
 "nbformat_minor": 5
}
